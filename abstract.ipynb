{
 "cells": [
  {
   "cell_type": "code",
   "execution_count": 134,
   "metadata": {},
   "outputs": [],
   "source": [
    "import numpy as np\n",
    "from matplotlib import pyplot as plt\n",
    "\n",
    "from scipy.stats import chi2\n",
    "import statistics"
   ]
  },
  {
   "cell_type": "code",
   "execution_count": 135,
   "metadata": {},
   "outputs": [],
   "source": [
    "length = 1000000\n",
    "df = 1000\n",
    "r = chi2.rvs(df=df, size=length)"
   ]
  },
  {
   "cell_type": "code",
   "execution_count": 136,
   "metadata": {},
   "outputs": [],
   "source": [
    "mean, var, skew, kurt = chi2.stats(df, moments='mvsk')"
   ]
  },
  {
   "cell_type": "code",
   "execution_count": 137,
   "metadata": {},
   "outputs": [
    {
     "name": "stdout",
     "output_type": "stream",
     "text": [
      "First moment is: 1000.0\n",
      "Second moment is: 2000.0\n",
      "Third moment is: 0.08944271909999159\n",
      "Fourth moment is: 0.012\n"
     ]
    }
   ],
   "source": [
    "print(f\"First moment is: {mean}\")\n",
    "print(f\"Second moment is: {var}\")\n",
    "print(f\"Third moment is: {skew}\")\n",
    "print(f\"Fourth moment is: {kurt}\")"
   ]
  },
  {
   "cell_type": "code",
   "execution_count": 138,
   "metadata": {},
   "outputs": [
    {
     "data": {
      "text/plain": [
       "(1015.6424334673729, 999.2226307522735, 44.7299288405115)"
      ]
     },
     "execution_count": 138,
     "metadata": {},
     "output_type": "execute_result"
    }
   ],
   "source": [
    "statistics.mode(r),statistics.median(r), statistics.stdev(r)"
   ]
  },
  {
   "cell_type": "code",
   "execution_count": 139,
   "metadata": {},
   "outputs": [
    {
     "data": {
      "image/png": "[encoded data removed]",
      "text/plain": [
       "<Figure size 432x288 with 1 Axes>"
      ]
     },
     "metadata": {
      "needs_background": "light"
     },
     "output_type": "display_data"
    }
   ],
   "source": [
    "fig, ax = plt.subplots(1, 1);\n",
    "\n",
    "rv = chi2(df)\n",
    "\n",
    "x = np.linspace(chi2.ppf(0.00001, df),\n",
    "                chi2.ppf(0.99999, df), 10000)\n",
    "\n",
    "#ax.plot(x, chi2.pdf(x, df),\n",
    "#        'r-', lw=5, alpha=0.6, label='chi2 pdf')\n",
    "\n",
    "ax.plot(x, rv.pdf(x), 'k-', lw=2, label='sigma=100')\n",
    "\n",
    "ax.hist(r, density=True, histtype='stepfilled', alpha=0.2)\n",
    "ax.legend(loc='best', frameon=False)\n",
    "plt.show()"
   ]
  },
  {
   "cell_type": "code",
   "execution_count": null,
   "metadata": {},
   "outputs": [],
   "source": []
  }
 ],
 "metadata": {
  "interpreter": {
   "hash": "20dfe1c3a30423f91dbe21abc93c47f1ad7995f768354707f3e327398f9ce3c3"
  },
  "kernelspec": {
   "display_name": "Python 3.8.3 64-bit ('base': conda)",
   "language": "python",
   "name": "python3"
  },
  "language_info": {
   "codemirror_mode": {
    "name": "ipython",
    "version": 3
   },
   "file_extension": ".py",
   "mimetype": "text/x-python",
   "name": "python",
   "nbconvert_exporter": "python",
   "pygments_lexer": "ipython3",
   "version": "3.8.3"
  },
  "orig_nbformat": 4
 },
 "nbformat": 4,
 "nbformat_minor": 2
}
