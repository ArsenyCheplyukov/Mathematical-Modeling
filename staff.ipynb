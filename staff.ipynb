{
 "cells": [
  {
   "cell_type": "code",
   "execution_count": 3,
   "metadata": {},
   "outputs": [],
   "source": [
    "import numpy as np\n",
    "from matplotlib import pyplot as plt\n",
    "\n",
    "from scipy.stats import moment\n",
    "from np.random import chisquare\n",
    "from np.random import poisson\n",
    "from np.random import weibull"
   ]
  },
  {
   "cell_type": "markdown",
   "metadata": {},
   "source": [
    "## **Generate poisson distribution**"
   ]
  },
  {
   "cell_type": "code",
   "execution_count": 4,
   "metadata": {},
   "outputs": [],
   "source": [
    "lambda_ = 10\n",
    "alpha = 2\n",
    "length = 1000000\n",
    "df = 1\n",
    "poisson_distribution = poisson(lambda_, length)\n",
    "weibull_distribution = weibull(a=alpha, size=length)"
   ]
  },
  {
   "cell_type": "code",
   "execution_count": 5,
   "metadata": {},
   "outputs": [],
   "source": [
    "def weib(x,n,a):\n",
    "    return (a / n) * (x / n)**(a - 1) * np.exp(-(x / n)**a)"
   ]
  },
  {
   "cell_type": "markdown",
   "metadata": {},
   "source": [
    "## **Draw poisson distribution**"
   ]
  },
  {
   "cell_type": "code",
   "execution_count": 6,
   "metadata": {},
   "outputs": [
    {
     "data": {
      "image/png": "[encoded data removed]",
      "text/plain": [
       "<Figure size 432x288 with 1 Axes>"
      ]
     },
     "metadata": {
      "needs_background": "light"
     },
     "output_type": "display_data"
    }
   ],
   "source": [
    "plt.hist(poisson_distribution)\n",
    "plt.show()"
   ]
  },
  {
   "cell_type": "markdown",
   "metadata": {},
   "source": [
    "## **Draw weibull distribution**"
   ]
  },
  {
   "cell_type": "code",
   "execution_count": 7,
   "metadata": {},
   "outputs": [
    {
     "data": {
      "image/png": "[encoded data removed]",
      "text/plain": [
       "<Figure size 432x288 with 1 Axes>"
      ]
     },
     "metadata": {
      "needs_background": "light"
     },
     "output_type": "display_data"
    }
   ],
   "source": [
    "count, bins, ignored = plt.hist(weibull_distribution, density=True)\n",
    "plt.plot(np.linspace(0, 2.5, length), weib(np.linspace(0, 2.5, length), 1., alpha)*count.max()/weib(np.linspace(0, 2.5, length), 1., alpha).max())\n",
    "plt.show()"
   ]
  },
  {
   "cell_type": "markdown",
   "metadata": {},
   "source": [
    "## **Calculate moments of orders from first to fourth for poisson**"
   ]
  },
  {
   "cell_type": "code",
   "execution_count": 8,
   "metadata": {},
   "outputs": [
    {
     "name": "stdout",
     "output_type": "stream",
     "text": [
      "First moment is: 10.016086947324006\n",
      "Second moment is: 10.006897516703898\n",
      "Third moment is: 310.98268904524133\n",
      "Fourth moment is: 1018.6921599627719\n"
     ]
    }
   ],
   "source": [
    "print(f\"First moment is: {moment(poisson_distribution, moment=2)}\")\n",
    "print(f\"Second moment is: {moment(poisson_distribution, moment=3)}\")\n",
    "print(f\"Third moment is: {moment(poisson_distribution, moment=4)}\")\n",
    "print(f\"Fourth moment is: {moment(poisson_distribution, moment=5)}\")"
   ]
  },
  {
   "cell_type": "markdown",
   "metadata": {},
   "source": [
    "## **Calculate moments of orders from first to fourth for weibull**"
   ]
  },
  {
   "cell_type": "code",
   "execution_count": 9,
   "metadata": {},
   "outputs": [
    {
     "name": "stdout",
     "output_type": "stream",
     "text": [
      "First moment is: 0.0\n",
      "Second moment is: 0.2144431920119894\n",
      "Third moment is: 0.06267862310175012\n",
      "Fourth moment is: 0.14916040044990594\n",
      "Raw third moments is: 1.326152623978274\n",
      "Raw fourth moments is: 1.993951450743273\n"
     ]
    }
   ],
   "source": [
    "print(f\"First moment is: {moment(weibull_distribution, moment=1)}\")\n",
    "print(f\"Second moment is: {moment(weibull_distribution, moment=2)}\")\n",
    "print(f\"Third moment is: {moment(weibull_distribution, moment=3)}\")\n",
    "print(f\"Fourth moment is: {moment(weibull_distribution, moment=4)}\")\n",
    "\n",
    "print(f\"Raw third moments is: {np.power(weibull_distribution, 3).mean()}\")\n",
    "print(f\"Raw fourth moments is: {np.power(weibull_distribution, 4).mean()}\")"
   ]
  },
  {
   "cell_type": "code",
   "execution_count": 10,
   "metadata": {},
   "outputs": [],
   "source": [
    "chi_distribution = chisquare(df, length)"
   ]
  },
  {
   "cell_type": "code",
   "execution_count": null,
   "metadata": {},
   "outputs": [],
   "source": []
  }
 ],
 "metadata": {
  "interpreter": {
   "hash": "20dfe1c3a30423f91dbe21abc93c47f1ad7995f768354707f3e327398f9ce3c3"
  },
  "kernelspec": {
   "display_name": "Python 3.8.3 64-bit ('base': conda)",
   "language": "python",
   "name": "python3"
  },
  "language_info": {
   "codemirror_mode": {
    "name": "ipython",
    "version": 3
   },
   "file_extension": ".py",
   "mimetype": "text/x-python",
   "name": "python",
   "nbconvert_exporter": "python",
   "pygments_lexer": "ipython3",
   "version": "3.8.3"
  },
  "orig_nbformat": 4
 },
 "nbformat": 4,
 "nbformat_minor": 2
}
